{
 "cells": [
  {
   "cell_type": "code",
   "execution_count": 10,
   "metadata": {},
   "outputs": [
    {
     "data": {
      "text/plain": [
       "{ renderImage: [Function: renderImage] }"
      ]
     },
     "execution_count": 10,
     "metadata": {},
     "output_type": "execute_result"
    }
   ],
   "source": [
    "var dataForge = require('data-forge');\n",
    "require('data-forge-fs');\n",
    "require('data-forge-plot');\n",
    "require('@data-forge-plot/render');\n",
    "\n",
    "async function main() {\n",
    "    let df = await dataForge\n",
    "        .readFile('./test.json')\n",
    "        .parseJSON();\n",
    "\n",
    "    let indexedDf = df.setIndex('x').bake();\n",
    "    console.log(indexedDf.head(5).toString());\n",
    "\n",
    "    indexedDf = indexedDf.where(row => row.y > 2)\n",
    "    console.log(indexedDf.head(5).toString());\n",
    "    \n",
    "    // await display(df);\n",
    "    const plot = indexedDf.plot({}, {y:['x', 'z']});\n",
    "    await plot.renderImage('my-chart.png');\n",
    "    // await df.plot().exportWeb('./test');\n",
    "    // df.plot().chartType()\n",
    "}"
   ]
  },
  {
   "cell_type": "code",
   "execution_count": 11,
   "metadata": {},
   "outputs": [
    {
     "name": "stdout",
     "output_type": "stream",
     "text": [
      "__index__  x  y  z\n",
      "---------  -  -  -\n",
      "1          1  2  3\n",
      "2          2  5  9\n",
      "3          3  1  4\n",
      "4          4  0  8\n",
      "5          5  4  1\n",
      "\n",
      "__index__  x  y  z\n",
      "---------  -  -  -\n",
      "2          2  5  9\n",
      "5          5  4  1\n",
      "6          6  7  2\n",
      "8          8  9  8\n",
      "9          9  4  3\n",
      "\n"
     ]
    },
    {
     "name": "stderr",
     "output_type": "stream",
     "text": [
      "LOG: %cElectron Security Warning (Insecure Resources)\n",
      "LOG: %cElectron Security Warning (Insecure Content-Security-Policy)\n"
     ]
    }
   ],
   "source": [
    "main();"
   ]
  },
  {
   "cell_type": "code",
   "execution_count": null,
   "metadata": {},
   "outputs": [],
   "source": []
  }
 ],
 "metadata": {
  "kernelspec": {
   "display_name": "Javascript (Node.js)",
   "language": "javascript",
   "name": "javascript"
  },
  "language_info": {
   "file_extension": ".js",
   "mimetype": "application/javascript",
   "name": "javascript",
   "version": "10.15.1"
  }
 },
 "nbformat": 4,
 "nbformat_minor": 4
}
